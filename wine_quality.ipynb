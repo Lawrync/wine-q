{
 "cells": [
  {
   "cell_type": "code",
   "execution_count": null,
   "id": "5e1e2fb5",
   "metadata": {},
   "outputs": [],
   "source": [
    "import streamlit as st\n",
    "import pandas as pd\n",
    "import pickle\n",
    "\n",
    "# Load the trained model\n",
    "@st.cache_resource\n",
    "def load_model():\n",
    "    with open(\"best_random_forest_model.pkl\", \"rb\") as file:\n",
    "        model = pickle.load(file)\n",
    "    return model\n",
    "\n",
    "# Load the dataset for reference (optional)\n",
    "@st.cache_data\n",
    "def load_data():\n",
    "    return pd.read_csv(\"wine_quality_no_outliers.csv\")\n",
    "\n",
    "# Main function to run the app\n",
    "def main():\n",
    "    # Page title\n",
    "    st.title(\"Wine Quality Prediction\")\n",
    "\n",
    "    # Load model\n",
    "    model = load_model()\n",
    "\n",
    "    # Sidebar with user inputs for wine characteristics\n",
    "    st.sidebar.title(\"Enter Wine Characteristics\")\n",
    "    fixed_acidity = st.sidebar.slider(\"Fixed Acidity\", min_value=0.0, max_value=15.0, step=0.1)\n",
    "    volatile_acidity = st.sidebar.slider(\"Volatile Acidity\", min_value=0.0, max_value=2.0, step=0.01)\n",
    "    citric_acid = st.sidebar.slider(\"Citric Acid\", min_value=0.0, max_value=1.0, step=0.01)\n",
    "    residual_sugar = st.sidebar.slider(\"Residual Sugar\", min_value=0.0, max_value=20.0, step=0.1)\n",
    "    chlorides = st.sidebar.slider(\"Chlorides\", min_value=0.0, max_value=1.0, step=0.01)\n",
    "    free_sulfur_dioxide = st.sidebar.slider(\"Free Sulfur Dioxide\", min_value=0, max_value=100, step=1)\n",
    "    total_sulfur_dioxide = st.sidebar.slider(\"Total Sulfur Dioxide\", min_value=0, max_value=300, step=1)\n",
    "    density = st.sidebar.slider(\"Density\", min_value=0.990, max_value=1.005, step=0.0001)\n",
    "    pH = st.sidebar.slider(\"pH\", min_value=2.0, max_value=4.0, step=0.01)\n",
    "    sulphates = st.sidebar.slider(\"Sulphates\", min_value=0.0, max_value=2.0, step=0.01)\n",
    "    alcohol = st.sidebar.slider(\"Alcohol\", min_value=0.0, max_value=20.0, step=0.1)\n",
    "\n",
    "    # Make prediction based on user inputs\n",
    "    wine_features = [[\n",
    "        fixed_acidity, volatile_acidity, citric_acid, residual_sugar,\n",
    "        chlorides, free_sulfur_dioxide, total_sulfur_dioxide, density,\n",
    "        pH, sulphates, alcohol\n",
    "    ]]\n",
    "\n",
    "    # Predict quality using the loaded model\n",
    "    prediction = model.predict(wine_features)\n",
    "\n",
    "    # Display prediction\n",
    "    st.subheader(\"Prediction:\")\n",
    "    st.write(f\"The predicted wine quality is: {prediction[0]} (range: 3 to 9)\")\n",
    "\n",
    "if __name__ == \"__main__\":\n",
    "    main()\n"
   ]
  }
 ],
 "metadata": {
  "kernelspec": {
   "display_name": "Python 3 (ipykernel)",
   "language": "python",
   "name": "python3"
  },
  "language_info": {
   "codemirror_mode": {
    "name": "ipython",
    "version": 3
   },
   "file_extension": ".py",
   "mimetype": "text/x-python",
   "name": "python",
   "nbconvert_exporter": "python",
   "pygments_lexer": "ipython3",
   "version": "3.11.5"
  }
 },
 "nbformat": 4,
 "nbformat_minor": 5
}
